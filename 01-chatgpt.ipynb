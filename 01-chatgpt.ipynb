{
 "cells": [
  {
   "cell_type": "markdown",
   "metadata": {},
   "source": [
    "# Utilizando Modelos de Linguagem de Grande Escala (LLM) em Python\n",
    "\n",
    "✏️ Por [Heliton Martins](https://hellmrf.dev.br) | 01 de agosto de 2024 | [🌱 Programação Popular](https://youtube.com/@programacaopopular).\n",
    "\n",
    "## OpenAI GPT 4o\n",
    "\n",
    "Usaremos neste notebook os seguintes modelos (LLMs):\n",
    "- **OpenAI GPT** (pago)\n",
    "    - 🗝️ [Chaves de API](https://platform.openai.com/api-keys) (pegue sua chave aqui)\n",
    "    - 📄 [Documentação](https://platform.openai.com/docs/overview)\n",
    "\n",
    "**Para acessar a API da OpenAI é necessário ter uma conta de desenvolvedor com créditos** em https://platform.openai.com. Isso não tem nada a ver com o ChatGPT Pro. Mesmo que você seja assinante do ChatGPT Pro, será necessário carregar sua conta com créditos para começar a usar a API.\n",
    "\n",
    "A recarga mínima é de US\\$ 5 (R\\$ 28,76 em 01 de agosto de 2024). Após carregada, os créditos são cobrados por número de tokens enviados e recebidos com a sua chave de API, mas uma consulta relativamente pequena costuma custar menos de US$ 0,01 (um centavo de dólar). Eu uso a API para testes há alguns meses e nunca usei todos os meus US\\$ 5 em créditos."
   ]
  },
  {
   "cell_type": "markdown",
   "metadata": {},
   "source": [
    "### Dependências\n",
    "\n",
    "Execute a célula a seguir para instalar as dependências no Google Colab. Caso você esteja em um ambiente local, pode usar o comando `pip install <pacote>` pelo terminal.\n",
    "\n",
    "- [📄 Documentação do LangChain](https://python.langchain.com/v0.2/docs/integrations/chat/openai/)"
   ]
  },
  {
   "cell_type": "code",
   "execution_count": null,
   "metadata": {},
   "outputs": [],
   "source": [
    "%pip install -qU langchain-openai # Se você for usar a OpenAI"
   ]
  },
  {
   "cell_type": "markdown",
   "metadata": {},
   "source": [
    "### Credenciais\n",
    "\n",
    "Para configurar suas chaves de API\n",
    "1. Copie o arquivo `.env.sample` para `.env`, e inclua nele suas chaves de API. Esse arquivo **não deve ser commitado**, já que contém informações sensíveis que permitem a qualquer um usar suas cotas nas APIs.\n",
    "2. Execute a célula a seguir e continue. Caso a chave de API não seja encontrada no arquivo `.env`, elas serão solicitadas.\n",
    "\n",
    "Caso esteja em ambiente local e não queira usar o arquivo `.env` ou o mecanismo de ocultação das chaves, basta definí-las explicitamente:\n",
    "\n",
    "```python\n",
    "os.environ[\"OPENAI_API_KEY\"] = \"YOUR-API-KEY\"\n",
    "```"
   ]
  },
  {
   "cell_type": "code",
   "execution_count": 1,
   "metadata": {},
   "outputs": [],
   "source": [
    "import getpass\n",
    "import os\n",
    "from dotenv import load_dotenv\n",
    "load_dotenv()\n",
    "\n",
    "if \"OPENAI_API_KEY\" not in os.environ:\n",
    "    os.environ[\"OPENAI_API_KEY\"] = getpass.getpass(\"Enter your OpenAI API key: \")"
   ]
  },
  {
   "cell_type": "markdown",
   "metadata": {},
   "source": [
    "### Langchain com GPT\n",
    "\n",
    "A partir de agora, em vez de usar o binding oficial para Python, utilizaremos a versão disponibilizada pela comunidade do Langchain. O Langchain é uma biblioteca que facilita a construção de aplicações que utilizam modelos de linguagem, como o GPT ou o Gemini, de forma mais eficiente e integrada. Ela oferece ferramentas e abstrações para gerenciar fluxos de conversação, integração com APIs de modelos de linguagem, e manipulação de dados de entrada e saída, permitindo que desenvolvedores criem aplicações complexas com menos esforço e maior flexibilidade.\n",
    "\n",
    "Em síntese, é possível desenvolver toda a lógica da aplicação e apenas \"plugar\" o modelo de linguagem desejado, o que inclusive facilita testar e comparar os modelos."
   ]
  },
  {
   "cell_type": "code",
   "execution_count": 3,
   "metadata": {},
   "outputs": [
    {
     "name": "stdout",
     "output_type": "stream",
     "text": [
      "Não, os cães não voam. Eles são animais terrestres e não possuem a capacidade de voar como aves ou insetos. No entanto, existem algumas situações em que cães podem ser transportados em aviões, mas isso não significa que eles possam voar por conta própria. Se você está se referindo a algo mais metafórico ou a uma situação específica, sinta-se à vontade para esclarecer!\n"
     ]
    }
   ],
   "source": [
    "from langchain_openai import ChatOpenAI\n",
    "\n",
    "llm = ChatOpenAI(\n",
    "    model=\"gpt-4o-mini\",\n",
    "    temperature=0,\n",
    "    max_tokens=None,\n",
    "    timeout=None,\n",
    "    max_retries=2,\n",
    ")\n",
    "\n",
    "response = llm.invoke(\"Os cães voam?\")\n",
    "print(response.content)"
   ]
  },
  {
   "cell_type": "markdown",
   "metadata": {},
   "source": [
    "Com isso, conectamos ao ChatGPT e geramos uma resposta utilizando Python."
   ]
  }
 ],
 "metadata": {
  "kernelspec": {
   "display_name": "coraldigital",
   "language": "python",
   "name": "python3"
  },
  "language_info": {
   "codemirror_mode": {
    "name": "ipython",
    "version": 3
   },
   "file_extension": ".py",
   "mimetype": "text/x-python",
   "name": "python",
   "nbconvert_exporter": "python",
   "pygments_lexer": "ipython3",
   "version": "3.10.14"
  }
 },
 "nbformat": 4,
 "nbformat_minor": 2
}
