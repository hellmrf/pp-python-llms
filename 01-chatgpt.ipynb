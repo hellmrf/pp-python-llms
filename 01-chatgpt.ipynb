{
 "cells": [
  {
   "cell_type": "markdown",
   "metadata": {},
   "source": [
    "# Utilizando Modelos de Linguagem de Grande Escala (LLM) em Python\n",
    "\n",
    "✏️ Por [Heliton Martins](https://hellmrf.dev.br) | 01 de agosto de 2024 | [🌱 Programação Popular](https://youtube.com/@programacaopopular).\n",
    "\n",
    "## Usando LLMs com Langchain\n",
    "\n",
    "Usaremos neste notebook os seguintes modelos (LLMs):\n",
    "\n",
    "- **OpenAI GPT 4o** (pago)\n",
    "    - 🗝️ [Chaves de API](https://platform.openai.com/api-keys) (pegue sua chave aqui)\n",
    "    - 📄 [Documentação](https://platform.openai.com/docs/overview)\n",
    "    - 💰 Necessário recarregar a conta em no mínimo US$ 5,00 (R$ 28,76 na data da escrita deste documento);\n",
    "      - Observe que o modelo `gpt-4o-mini` é consideravelmente mais barato do que a versão completa `gpt-4o`.\n",
    "      - [Preços](https://openai.com/api/pricing/)\n",
    "- **Google Gemini 1.5** (gratuito com limites)\n",
    "    - 🗝️ [Google AI Studio](https://aistudio.google.com/app/prompts/new_chat) (pegue sua chave aqui)\n",
    "    - 📄 [Documentação](https://ai.google.dev/gemini-api/docs)\n",
    "    - 💰 Gratuito, mas com limites no número de **R**equisições **P**or **M**inuto (RPM)\n",
    "      - 2 RPM para o Gemini 1.5 Pro;\n",
    "      - 15 RPM para o Gemini 1.5 Flash.\n",
    "\n",
    "### OpenAI API\n",
    "\n",
    "**Para acessar a API da OpenAI é necessário ter uma conta de desenvolvedor com créditos** em https://platform.openai.com. Isso não tem nada a ver com o ChatGPT Pro. Mesmo que você seja assinante do ChatGPT Pro, será necessário carregar sua conta com créditos para começar a usar a API.\n",
    "\n",
    "Acesse a [Central de Pagamentos](https://platform.openai.com/settings/organization/billing/overview) e adicione um método de pagamento. A recarga mínima é de US$ 5 (R$ 28,76 em 01 de agosto de 2024). Após carregada, a cobrança é feita por número de tokens enviados/recebidos com a sua chave de API, mas uma consulta relativamente pequena costuma custar menos de US$ 0,01 (um centavo de dólar). Eu uso a API para testes há alguns meses e usei apenas US\\$ 4 até hoje (mas é claro que, sempre que possível, eu procuro usar modelos gratuitos).\n",
    "\n",
    "Com a conta ativada, acesse a tela de [Chaves de API](https://platform.openai.com/api-keys) e gere a sua.\n",
    "\n",
    "### Não tenho uma chave de API\n",
    "\n",
    "Infelizmente, se você não tem uma chave de API, não é possível utilizar a API do ChatGPT. Use outro modelo gratuito."
   ]
  },
  {
   "cell_type": "markdown",
   "metadata": {},
   "source": [
    "### Dependências\n",
    "\n",
    "Execute a célula a seguir para instalar as dependências no Google Colab. Caso você esteja em um ambiente local, pode usar o comando `pip install <pacote>` pelo terminal.\n",
    "\n",
    "- [📄 Documentação da integração com a OpenAI do LangChain](https://python.langchain.com/v0.2/docs/integrations/chat/openai/)"
   ]
  },
  {
   "cell_type": "code",
   "execution_count": null,
   "metadata": {},
   "outputs": [],
   "source": [
    "%pip install -qU langchain-openai # Se você for usar OpenAI\n",
    "%pip install -qU langchain-google-genai # Se você for usar Google"
   ]
  },
  {
   "cell_type": "markdown",
   "metadata": {},
   "source": [
    "### Credenciais\n",
    "\n",
    "Para configurar suas chaves de API\n",
    "1. Copie o arquivo `.env.sample` para `.env`, e inclua nele suas chaves de API. Esse arquivo **não deve ser commitado**, já que contém informações sensíveis que permitem a qualquer um usar suas cotas nas APIs.\n",
    "2. Execute a célula a seguir e continue. Caso a chave de API não seja encontrada no arquivo `.env`, elas serão solicitadas.\n",
    "\n",
    "Caso esteja em ambiente local e não queira usar o arquivo `.env` ou o mecanismo de ocultação das chaves, basta definí-las explicitamente:\n",
    "\n",
    "```python\n",
    "os.environ[\"OPENAI_API_KEY\"] = \"YOUR-API-KEY\"\n",
    "```"
   ]
  },
  {
   "cell_type": "code",
   "execution_count": 6,
   "metadata": {},
   "outputs": [],
   "source": [
    "import getpass\n",
    "import os\n",
    "from dotenv import load_dotenv\n",
    "load_dotenv()\n",
    "\n",
    "if \"OPENAI_API_KEY\" not in os.environ:\n",
    "    os.environ[\"OPENAI_API_KEY\"] = getpass.getpass(\"Enter your OpenAI API key: \")\n",
    "\n",
    "class color:\n",
    "    PURPLE = '\\033[95m'\n",
    "    CYAN = '\\033[96m'\n",
    "    DARKCYAN = '\\033[36m'\n",
    "    BLUE = '\\033[94m'\n",
    "    GREEN = '\\033[92m'\n",
    "    YELLOW = '\\033[93m'\n",
    "    RED = '\\033[91m'\n",
    "    BOLD = '\\033[1m'\n",
    "    UNDERLINE = '\\033[4m'\n",
    "    END = '\\033[0m'"
   ]
  },
  {
   "cell_type": "markdown",
   "metadata": {},
   "source": [
    "### Executando modelos OpenAI (GPT)\n",
    "\n",
    "A partir de agora, em vez de usar o binding oficial para Python, utilizaremos a versão disponibilizada pela comunidade do Langchain. O Langchain é uma biblioteca que facilita a construção de aplicações que utilizam modelos de linguagem, como o GPT ou o Gemini, de forma mais eficiente e integrada. Ela oferece ferramentas e abstrações para gerenciar fluxos de conversação, integração com APIs de modelos de linguagem, e manipulação de dados de entrada e saída, permitindo que desenvolvedores criem aplicações complexas com menos esforço e maior flexibilidade.\n",
    "\n",
    "Em síntese, é possível desenvolver toda a lógica da aplicação e apenas \"plugar\" o modelo de linguagem desejado, o que inclusive facilita testar e comparar os modelos."
   ]
  },
  {
   "cell_type": "code",
   "execution_count": 9,
   "metadata": {},
   "outputs": [
    {
     "name": "stdout",
     "output_type": "stream",
     "text": [
      "\u001b[1m\u001b[94m[Humano]:\u001b[0m Os cães voam?\n",
      "\u001b[1m\u001b[92m[GPT-4o Mini]:\u001b[0m Não, os cães não voam. Eles são animais terrestres e não possuem a capacidade de voar como aves ou insetos. No entanto, em algumas situações, como em aviões, os cães podem ser transportados pelo ar, mas isso não significa que eles possam voar por conta própria. Se você está se referindo a algo mais metafórico ou a uma situação específica, sinta-se à vontade para esclarecer!\n"
     ]
    }
   ],
   "source": [
    "from langchain_openai import ChatOpenAI\n",
    "\n",
    "llm = ChatOpenAI(\n",
    "    model=\"gpt-4o-mini\",\n",
    "    temperature=0,\n",
    "    max_tokens=None,\n",
    "    timeout=None,\n",
    "    max_retries=2,\n",
    ")\n",
    "\n",
    "prompt = \"Os cães voam?\"\n",
    "response = llm.invoke(prompt)\n",
    "\n",
    "print(f\"{color.BOLD + color.BLUE}[Humano]:{color.END} {prompt}\")\n",
    "print(f\"{color.BOLD + color.GREEN}[GPT-4o Mini]:{color.END} {response.content}\")"
   ]
  },
  {
   "cell_type": "markdown",
   "metadata": {},
   "source": [
    "Com isso, conectamos ao ChatGPT e geramos uma resposta utilizando Python.\n",
    "\n",
    "### Executando modelos Google (Gemini)\n",
    "\n",
    "Embora já tenhamos executado o Gemini 1.5 no notebook anterior, lá fizemos usando o binding oficial do google (`from google.genai import ...`). Aqui segue o código em LangChain. A vantagem de Langchain, como observamos, é que a interface é a mesma para todos os modelos, facilitando a troca de modelos para testes."
   ]
  },
  {
   "cell_type": "code",
   "execution_count": 10,
   "metadata": {},
   "outputs": [
    {
     "name": "stdout",
     "output_type": "stream",
     "text": [
      "\u001b[1m\u001b[94m[Humano]:\u001b[0m Os cães voam?\n",
      "\u001b[1m\u001b[92m[Gemini 1.5 Flash]:\u001b[0m Não, os cães não voam. Os cães são mamíferos terrestres e não têm asas. \n",
      "\n"
     ]
    }
   ],
   "source": [
    "from langchain_google_genai import ChatGoogleGenerativeAI   # Alterei aqui\n",
    "\n",
    "llm = ChatGoogleGenerativeAI(                               # ... e aqui\n",
    "    model=\"models/gemini-1.5-flash\",\n",
    "    temperature=0,\n",
    "    max_tokens=None,\n",
    "    timeout=None,\n",
    "    max_retries=2,\n",
    ")\n",
    "\n",
    "prompt = \"Os cães voam?\"\n",
    "response = llm.invoke(prompt)\n",
    "\n",
    "print(f\"{color.BOLD + color.BLUE}[Humano]:{color.END} {prompt}\")\n",
    "print(f\"{color.BOLD + color.GREEN}[Gemini 1.5 Flash]:{color.END} {response.content}\")"
   ]
  }
 ],
 "metadata": {
  "kernelspec": {
   "display_name": "coraldigital",
   "language": "python",
   "name": "python3"
  },
  "language_info": {
   "codemirror_mode": {
    "name": "ipython",
    "version": 3
   },
   "file_extension": ".py",
   "mimetype": "text/x-python",
   "name": "python",
   "nbconvert_exporter": "python",
   "pygments_lexer": "ipython3",
   "version": "3.10.14"
  }
 },
 "nbformat": 4,
 "nbformat_minor": 2
}
