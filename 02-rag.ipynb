{
 "cells": [
  {
   "cell_type": "markdown",
   "metadata": {},
   "source": [
    "# Geração Aumentada via Recuperação (RAG)\n",
    "\n",
    "*Retrieval-Agumented Generation* (RAG) é uma técnica que consiste em \"enriquecer\" o contexto fornecido ao LLM antes do prompt propriamente dito, de forma que o modelo se detenha às informações apresentadas para gerar respostas.\n",
    "\n",
    "Um exemplo de RAG em produção é o [NotebookLM](https://notebooklm.google), ferramenta do Google que permite analisar grandes quantidades de texto em arquivos.\n",
    "\n",
    "## Arquitetura RAG\n",
    "\n",
    "Em síntese, uma \"busca\" (*query*) é extraída do prompt, utilizada para fazer uma busca num banco de dados vetorial (\"fontes de conhecimento\") e de lá extrair informações relevantes para \"enriquecer\" o contexto.\n",
    "\n",
    "Em seguida, o prompt com o contexto adicional recuperado é passado para o LLM, que gera a resposta final. A imagem a seguir demonstra essa arquitetura.\n",
    "\n",
    "![A imagem apresenta um diagrama de fluxo que descreve um processo de interação com um modelo de linguagem de grande escala (LLM).](https://docs.aws.amazon.com/images/sagemaker/latest/dg/images/jumpstart/jumpstart-fm-rag.jpg)\n",
    "\n",
    "[Fonte da imagem](https://aws.amazon.com/pt/what-is/retrieval-augmented-generation/)\n",
    "\n",
    "## Fontes de conhecimento\n",
    "\n",
    "Para cada tipo de aplicação, é desejável utilizar a arquitetura de banco de dados que melhor representa os dados do problema. Neste caso, em que o objetivo é recuperar informações via contexto, o melhor é utilizar um banco de dados vetorial, como o [ChromaDB](https://trychroma.com). Esses bancos de dados armazenam as informações na forma de vetores, de forma que vetores que descrevem temas correlacionados estão próximos (em termos da distância euclidiana) entre si."
   ]
  },
  {
   "cell_type": "code",
   "execution_count": 6,
   "metadata": {},
   "outputs": [
    {
     "name": "stdout",
     "output_type": "stream",
     "text": [
      "\u001b[32mEncontrei 494 arquivos.\u001b[0m\n"
     ]
    }
   ],
   "source": [
    "from pathlib import Path\n",
    "from utils import BLUE, GREEN, BOLD, RESET\n",
    "\n",
    "datasource = list(Path(\"data/python-docs-text\").glob(\"**/*.txt\"))\n",
    "print(f\"{GREEN}Encontrei {len(datasource)} arquivos.{RESET}\")"
   ]
  },
  {
   "cell_type": "code",
   "execution_count": 2,
   "metadata": {},
   "outputs": [],
   "source": [
    "import chromadb\n",
    "\n",
    "# Create a new database\n",
    "client = chromadb.PersistentClient(path=\"chromadb\")\n",
    "coll = client.get_or_create_collection(\"python-docs\")"
   ]
  },
  {
   "cell_type": "code",
   "execution_count": 3,
   "metadata": {},
   "outputs": [
    {
     "name": "stdout",
     "output_type": "stream",
     "text": [
      "Li 494 arquivos.\n"
     ]
    }
   ],
   "source": [
    "from langchain_experimental.text_splitter import SemanticChunker\n",
    "from langchain_openai.embeddings import OpenAIEmbeddings\n",
    "import tqdm\n",
    "\n",
    "text_splitter = SemanticChunker(OpenAIEmbeddings())\n",
    "\n",
    "\n",
    "\n",
    "files = []\n",
    "\n",
    "for path in datasource:\n",
    "    content = path.read_text()\n",
    "    files.append(content)\n",
    "\n",
    "print(f\"Li {len(files)} arquivos.\")"
   ]
  },
  {
   "cell_type": "markdown",
   "metadata": {},
   "source": [
    "## Salvando no Banco de Dados\n",
    "A célula a seguir vai armazenar os documentos carregados no Chroma DB. Na minha máquina, para 494 arquivos, levou 17 min 46 s para importar 5350 documentos."
   ]
  },
  {
   "cell_type": "code",
   "execution_count": null,
   "metadata": {},
   "outputs": [],
   "source": [
    "count = coll.count()\n",
    "print(f\"Collection already contains {count} documents\")\n",
    "\n",
    "\n",
    "batch_size = 30\n",
    "# Load the documents in batches of batch_size\n",
    "for i in tqdm.tqdm(\n",
    "    range(0, len(files), batch_size), desc=\"Adding documents\", unit_scale=batch_size\n",
    "):\n",
    "\n",
    "    docs = text_splitter.create_documents(files[i : i + batch_size])\n",
    "    ids = [f\"id{i}-{j}\" for j in range(len(docs))]\n",
    "    coll.add(\n",
    "        ids=ids,\n",
    "        documents=[d.page_content for d in docs],\n",
    "    )\n",
    "\n",
    "new_count = coll.count()\n",
    "print(f\"Added {new_count - count} documents\")"
   ]
  },
  {
   "cell_type": "markdown",
   "metadata": {},
   "source": [
    "## Fazendo pesquisas na base de dados\n",
    "\n",
    "Agora que já populamos a base de dados, podemos fazer perguntas especializadas."
   ]
  },
  {
   "cell_type": "code",
   "execution_count": null,
   "metadata": {},
   "outputs": [],
   "source": [
    "search = coll.query(\n",
    "    query_texts=[\"interpretação de argumentos de linha de comando\"],\n",
    "    n_results=10,\n",
    ")"
   ]
  },
  {
   "cell_type": "code",
   "execution_count": null,
   "metadata": {},
   "outputs": [
    {
     "data": {
      "text/plain": [
       "['Se for... uma função definida por usuário:\\n   O bloco de código da função é executado, passando-lhe a lista de\\n   argumentos. A primeira coisa que o bloco de código fará é vincular\\n   os parâmetros formais aos argumentos; isso é descrito na seção\\n   Definições de função. Quando o bloco de código executa uma\\n   instrução \"return\", isso especifica o valor de retorno da chamada\\n   de função. um método embutido ou uma função embutida:\\n   O resultado fica por conta do interpretador; veja Funções embutidas\\n   para descrições de funções embutidas e métodos embutidos. um objeto classe:\\n   Uma nova instância dessa classe é retornada. um método de instância de classe:\\n   A função correspondente definida pelo usuário é chamada, com uma\\n   lista de argumentos que é maior que a lista de argumentos da\\n   chamada: a instância se torna o primeiro argumento. uma instância de classe:\\n   A classe deve definir um método \"__call__()\"; o efeito é então o\\n   mesmo como se esse método fosse chamado.',\n",
       " 'Levanta \"ValueError\" se algum dos argumentos for negativo.',\n",
       " 'Escrever uma função lambda. 2. Escreva um comentário explicando o que o lambda faz. 3. Estude o comentário por um tempo e pense em um nome que capture a\\n   essência do comentário. 4. Converta a lambda para uma declaração de definição, usando esse\\n   nome. 5.',\n",
       " 'A confirmação é necessária se um arquivo já\\n      existente for selecionado.',\n",
       " '# ... do something with args.verbose .. Ver também:\\n\\n  Módulo \"argparse\"\\n     Alternativa de opção de linha de comando e biblioteca de análise\\n     de argumento. ',\n",
       " '* Algumas funções são esboço que não fazem nada e sempre retornam\\n  valores definidos no código. * As funções relacionadas a descritores de arquivo, permissões de\\n  arquivo, propriedade de arquivo e links são limitadas e não suportam\\n  algumas operações. Por exemplo, WASI não permite links simbólicos\\n  com nomes de arquivo absolutos. ',\n",
       " 'Independentemente de qual protocolo é usado internamente, uma\\n   conversão de argumentos precisa ser feita. Portanto, esta função só\\n   deve ser usada se o chamador já tiver um dicionário pronto para\\n   usar para os argumentos nomeados, mas não uma tupla para os\\n   argumentos posicionais.',\n",
       " 'It\\'s really very, VERY runny, sir. ----------------------------------------\\n   shopkeeper : Michael Palin\\n   client : John Cleese\\n   sketch : Cheese Shop Sketch\\n\\nObserve que a ordem em que os argumentos nomeados são exibidos é\\ngarantida para corresponder à ordem em que foram fornecidos na chamada\\nda função. 4.8.3. Parâmetros especiais\\n---------------------------\\n\\nPor padrão, argumentos podem ser passadas para uma função Python tanto\\npor posição quanto explicitamente pelo nome. Para uma melhor\\nlegibilidade e desempenho, faz sentido restringir a maneira pelo qual\\nargumentos possam ser passados, assim um desenvolvedor precisa apenas\\nolhar para a definição da função para determinar se os itens são\\npassados por posição, por posição e nome, ou por nome. A definição de uma função pode parecer com:\\n\\n   def f(pos1, pos2, /, pos_or_kwd, *, kwd1, kwd2):\\n         -----------    ----------     ----------\\n           |             |                  |\\n           |        Positional or keyword   |\\n           |                                - Keyword only\\n            -- Positional only\\n\\nonde \"/\" e \"*\" são opcionais. Se usados, esses símbolos indicam o tipo\\nde parâmetro pelo qual os argumentos podem ser passados para as\\nfunções: somente-posicional, posicional-ou-nomeado, e somente-nomeado. Parâmetros nomeados são também conhecidos como parâmetros palavra-\\nchave. 4.8.3.1. Argumentos posicional-ou-nomeados\\n~~~~~~~~~~~~~~~~~~~~~~~~~~~~~~~~~~~~~~~~~~\\n\\nSe \"/\" e \"*\" não estão presentes na definição da função, argumentos\\npodem ser passados para uma função por posição ou por nome. 4.8.3.2. Parâmetros somente-posicionais\\n~~~~~~~~~~~~~~~~~~~~~~~~~~~~~~~~~~~~~~~\\n\\nOlhando com um pouco mais de detalhes, é possível definir certos\\nparâmetros como *somente-posicional*. Se *somente-posicional*, a ordem\\ndo parâmetro importa, e os parâmetros não podem ser passados por nome. Parâmetros somente-posicional são colocados antes de \"/\" (barra). A\\n\"/\" é usada para logicamente separar os argumentos somente-posicional\\ndos demais parâmetros. Se não existe uma \"/\" na definição da função,\\nnão existe parâmetros somente-posicionais. Parâmetros após a \"/\" podem ser *posicional-ou-nomeado* ou *somente-\\nnomeado*. 4.8.3.3. Argumentos somente-nomeados\\n~~~~~~~~~~~~~~~~~~~~~~~~~~~~~~~~~~~~\\n\\nPara definir parâmetros como *somente-nomeado*, indicando que o\\nparâmetro deve ser passado por argumento nomeado, colocamos um \"*\" na\\nlista de argumentos imediatamente antes do primeiro parâmetro\\n*somente-nomeado*. 4.8.3.4. Exemplos de funções\\n~~~~~~~~~~~~~~~~~~~~~~~~~~~~\\n\\nConsidere o seguinte exemplo de definição de função com atenção\\nredobrada para os marcadores \"/\" e \"*\":\\n\\n   >>> def standard_arg(arg):\\n   ... print(arg)\\n   ...',\n",
       " '14.2. Alternativas ao interpretador interativo\\n==============================================\\n\\nEsta facilidade é um enorme passo em frente em comparação com as\\nversões anteriores do interpretador; No entanto, alguns desejos são\\ndeixados: seria bom se a indentação adequada fosse sugerida nas linhas\\nde continuação (o analisador sabe se é necessário um token de recuo). O mecanismo de conclusão pode usar a tabela de símbolos do\\ninterpretador. Um comando para verificar (ou mesmo sugerir)\\nparênteses, aspas, etc., também seria útil. Um interpretador interativo aprimorado e alternativo que existe há\\nalgum tempo é o IPython, que apresenta a conclusão da guia, a\\nexploração de objetos e o gerenciamento de histórico avançado. Também\\npode ser completamente personalizado e incorporado em outras\\naplicações. Outro ambiente interativo aprimorado similar é bpython. ',\n",
       " 'Assim que eu tiver entradas de duas casas válidas, como mantenho\\nessa invariante em uma aplicação? A.']"
      ]
     },
     "execution_count": 64,
     "metadata": {},
     "output_type": "execute_result"
    }
   ],
   "source": [
    "search[\"documents\"][0]"
   ]
  },
  {
   "cell_type": "markdown",
   "metadata": {},
   "source": [
    "O resultado com a docs do Python não foi satisfatório."
   ]
  }
 ],
 "metadata": {
  "kernelspec": {
   "display_name": "coraldigital",
   "language": "python",
   "name": "python3"
  },
  "language_info": {
   "codemirror_mode": {
    "name": "ipython",
    "version": 3
   },
   "file_extension": ".py",
   "mimetype": "text/x-python",
   "name": "python",
   "nbconvert_exporter": "python",
   "pygments_lexer": "ipython3",
   "version": "3.10.14"
  }
 },
 "nbformat": 4,
 "nbformat_minor": 2
}
